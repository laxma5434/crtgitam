{
  "nbformat": 4,
  "nbformat_minor": 0,
  "metadata": {
    "colab": {
      "name": "24-12-19.jpynb",
      "provenance": [],
      "collapsed_sections": []
    },
    "kernelspec": {
      "name": "python3",
      "display_name": "Python 3"
    }
  },
  "cells": [
    {
      "cell_type": "code",
      "metadata": {
        "id": "vNfeNiE7DcK5",
        "colab_type": "code",
        "colab": {}
      },
      "source": [
        ""
      ],
      "execution_count": 0,
      "outputs": []
    },
    {
      "cell_type": "markdown",
      "metadata": {
        "id": "VKZILHl-EemO",
        "colab_type": "text"
      },
      "source": [
        "# Markdown\n",
        "## Markdown\n",
        "### Markdown\n",
        "#### Markdown\n",
        "**python**\n",
        "*python*\n",
        "## insert image\n",
        "![text](https://images.unsplash.com/photo-1499084732479-de2c02d45fcc?ixlib=rb-1.2.1&ixid=eyJhcHBfaWQiOjEyMDd9&w=1000&q=80)\n",
        "\n",
        "# insert site\n",
        "[site](https://www.google.com/)\n",
        "\n",
        "#PYTHON\n",
        "- python is easy to learn\n",
        "- python is more popular and demand\n",
        "- python used in data sience\n",
        "\n",
        " \n"
      ]
    },
    {
      "cell_type": "code",
      "metadata": {
        "id": "uE5uZsraL5Jy",
        "colab_type": "code",
        "outputId": "2853241d-3ce4-4d18-b651-3c708ba6131f",
        "colab": {
          "base_uri": "https://localhost:8080/",
          "height": 34
        }
      },
      "source": [
        "print(*\"hello, world!\")\n"
      ],
      "execution_count": 0,
      "outputs": [
        {
          "output_type": "stream",
          "text": [
            "h e l l o ,   w o r l d !\n"
          ],
          "name": "stdout"
        }
      ]
    },
    {
      "cell_type": "code",
      "metadata": {
        "id": "5hRHCNLHMDRZ",
        "colab_type": "code",
        "outputId": "a8579957-c998-4a1e-f0eb-eba94781b935",
        "colab": {
          "base_uri": "https://localhost:8080/",
          "height": 34
        }
      },
      "source": [
        "print(\"hello hyderabad!\")"
      ],
      "execution_count": 0,
      "outputs": [
        {
          "output_type": "stream",
          "text": [
            "hello hyderabad!\n"
          ],
          "name": "stdout"
        }
      ]
    },
    {
      "cell_type": "markdown",
      "metadata": {
        "id": "_zYi2UewMXxO",
        "colab_type": "text"
      },
      "source": [
        "#Assignment\n"
      ]
    },
    {
      "cell_type": "code",
      "metadata": {
        "id": "1MWZB6-rMk1e",
        "colab_type": "code",
        "outputId": "4f789bd5-f070-44a1-f747-6f2ae0bb25f1",
        "colab": {
          "base_uri": "https://localhost:8080/",
          "height": 34
        }
      },
      "source": [
        "x=12\n",
        "y=15\n",
        "print(x,y)\n"
      ],
      "execution_count": 0,
      "outputs": [
        {
          "output_type": "stream",
          "text": [
            "12 15\n"
          ],
          "name": "stdout"
        }
      ]
    },
    {
      "cell_type": "code",
      "metadata": {
        "id": "ablOG26IM0X2",
        "colab_type": "code",
        "outputId": "db7a9a1a-4f0b-45d7-94e8-a587a67c480a",
        "colab": {
          "base_uri": "https://localhost:8080/",
          "height": 34
        }
      },
      "source": [
        "a=b=c=20\n",
        "print(a,b,c)"
      ],
      "execution_count": 0,
      "outputs": [
        {
          "output_type": "stream",
          "text": [
            "20 20 20\n"
          ],
          "name": "stdout"
        }
      ]
    },
    {
      "cell_type": "code",
      "metadata": {
        "id": "NAN1w9gxNOHf",
        "colab_type": "code",
        "outputId": "77d989ce-93e3-4db5-f7b1-d0e25ad30f73",
        "colab": {
          "base_uri": "https://localhost:8080/",
          "height": 34
        }
      },
      "source": [
        "a1,b1,c1=100,200,300\n",
        "print(a1,b1,c1)"
      ],
      "execution_count": 0,
      "outputs": [
        {
          "output_type": "stream",
          "text": [
            "100 200 300\n"
          ],
          "name": "stdout"
        }
      ]
    },
    {
      "cell_type": "code",
      "metadata": {
        "id": "IdemdaHlNrne",
        "colab_type": "code",
        "colab": {}
      },
      "source": [
        ""
      ],
      "execution_count": 0,
      "outputs": []
    },
    {
      "cell_type": "markdown",
      "metadata": {
        "id": "zLs87llPN3s-",
        "colab_type": "text"
      },
      "source": [
        "#Data types and Conversions\n",
        "- int\n",
        "- float\n",
        "- string\n",
        "- complex\n",
        "- boolean\n"
      ]
    },
    {
      "cell_type": "code",
      "metadata": {
        "id": "qnaza16oOFCG",
        "colab_type": "code",
        "outputId": "6c16fab2-f890-4ff8-a09c-ecff33616945",
        "colab": {
          "base_uri": "https://localhost:8080/",
          "height": 68
        }
      },
      "source": [
        "x=10\n",
        "y=12.56\n",
        "z=3+5j\n",
        "print(type(x))\n",
        "print(type(y))\n",
        "print(type(z))"
      ],
      "execution_count": 0,
      "outputs": [
        {
          "output_type": "stream",
          "text": [
            "<class 'int'>\n",
            "<class 'float'>\n",
            "<class 'complex'>\n"
          ],
          "name": "stdout"
        }
      ]
    },
    {
      "cell_type": "code",
      "metadata": {
        "id": "dSx7iJvqPTHQ",
        "colab_type": "code",
        "outputId": "82bd3735-cd74-4308-9bf9-345633cb45d6",
        "colab": {
          "base_uri": "https://localhost:8080/",
          "height": 34
        }
      },
      "source": [
        "x=4\n",
        "y=10\n",
        "x<y"
      ],
      "execution_count": 0,
      "outputs": [
        {
          "output_type": "execute_result",
          "data": {
            "text/plain": [
              "True"
            ]
          },
          "metadata": {
            "tags": []
          },
          "execution_count": 10
        }
      ]
    },
    {
      "cell_type": "code",
      "metadata": {
        "id": "JS7kX2yDPdFn",
        "colab_type": "code",
        "outputId": "54c78f39-b027-417a-9be9-fea77eaf4388",
        "colab": {
          "base_uri": "https://localhost:8080/",
          "height": 34
        }
      },
      "source": [
        "x=15\n",
        "y=12\n",
        "x<y"
      ],
      "execution_count": 0,
      "outputs": [
        {
          "output_type": "execute_result",
          "data": {
            "text/plain": [
              "False"
            ]
          },
          "metadata": {
            "tags": []
          },
          "execution_count": 12
        }
      ]
    },
    {
      "cell_type": "code",
      "metadata": {
        "id": "u8B8aHKxPhds",
        "colab_type": "code",
        "colab": {}
      },
      "source": [
        ""
      ],
      "execution_count": 0,
      "outputs": []
    },
    {
      "cell_type": "markdown",
      "metadata": {
        "id": "QXA38prPPwo2",
        "colab_type": "text"
      },
      "source": [
        "# String\n"
      ]
    },
    {
      "cell_type": "code",
      "metadata": {
        "id": "s3RYnGt4Pz1n",
        "colab_type": "code",
        "outputId": "92fb8130-0449-498f-82ba-691e203e12b3",
        "colab": {
          "base_uri": "https://localhost:8080/",
          "height": 51
        }
      },
      "source": [
        "#string\n",
        "s1=\"abc\"\n",
        "s2=\"xyz\"\n",
        "print(type(s1))\n",
        "print(type(s2))"
      ],
      "execution_count": 0,
      "outputs": [
        {
          "output_type": "stream",
          "text": [
            "<class 'str'>\n",
            "<class 'str'>\n"
          ],
          "name": "stdout"
        }
      ]
    },
    {
      "cell_type": "code",
      "metadata": {
        "id": "Qd5BA-2-QG3M",
        "colab_type": "code",
        "outputId": "db389af4-52e5-4d55-e021-7c77820c69fd",
        "colab": {
          "base_uri": "https://localhost:8080/",
          "height": 34
        }
      },
      "source": [
        "a=\"123\"\n",
        "type(a)\n"
      ],
      "execution_count": 0,
      "outputs": [
        {
          "output_type": "execute_result",
          "data": {
            "text/plain": [
              "str"
            ]
          },
          "metadata": {
            "tags": []
          },
          "execution_count": 15
        }
      ]
    },
    {
      "cell_type": "code",
      "metadata": {
        "id": "zaNkd_rSQfOb",
        "colab_type": "code",
        "outputId": "a825ab5b-a848-472a-8b97-873393194884",
        "colab": {
          "base_uri": "https://localhost:8080/",
          "height": 68
        }
      },
      "source": [
        "i=100\n",
        "print(type(i))\n",
        "s1=str(i)\n",
        "print(type(s1))\n",
        "f=float(i)\n",
        "print(type(f))"
      ],
      "execution_count": 0,
      "outputs": [
        {
          "output_type": "stream",
          "text": [
            "<class 'int'>\n",
            "<class 'str'>\n",
            "<class 'float'>\n"
          ],
          "name": "stdout"
        }
      ]
    },
    {
      "cell_type": "code",
      "metadata": {
        "id": "8BJNipHIRDNL",
        "colab_type": "code",
        "outputId": "d164aa13-8c98-4953-cd2b-972cba25cdc4",
        "colab": {
          "base_uri": "https://localhost:8080/",
          "height": 34
        }
      },
      "source": [
        "c=complex(3,5)\n",
        "print(c)"
      ],
      "execution_count": 0,
      "outputs": [
        {
          "output_type": "stream",
          "text": [
            "(3+5j)\n"
          ],
          "name": "stdout"
        }
      ]
    },
    {
      "cell_type": "code",
      "metadata": {
        "id": "67fcOE6WR3GD",
        "colab_type": "code",
        "colab": {}
      },
      "source": [
        ""
      ],
      "execution_count": 0,
      "outputs": []
    },
    {
      "cell_type": "markdown",
      "metadata": {
        "id": "NkSBkwHKSMAg",
        "colab_type": "text"
      },
      "source": [
        "#Reading a value--- input function"
      ]
    },
    {
      "cell_type": "code",
      "metadata": {
        "id": "wNrEK3OtSXzU",
        "colab_type": "code",
        "outputId": "d2d2fbab-9f05-47fa-c279-2c22af4e9062",
        "colab": {
          "base_uri": "https://localhost:8080/",
          "height": 68
        }
      },
      "source": [
        "s=input(\"enter your name:\")\n",
        "print(s)\n",
        "type(s)\n"
      ],
      "execution_count": 0,
      "outputs": [
        {
          "output_type": "stream",
          "text": [
            "enter your name:kushal\n",
            "kushal\n"
          ],
          "name": "stdout"
        },
        {
          "output_type": "execute_result",
          "data": {
            "text/plain": [
              "str"
            ]
          },
          "metadata": {
            "tags": []
          },
          "execution_count": 22
        }
      ]
    },
    {
      "cell_type": "code",
      "metadata": {
        "id": "dqBlHd7NSgvk",
        "colab_type": "code",
        "outputId": "8279eeeb-7bea-4bf9-f6e0-2ca9b5ad7add",
        "colab": {
          "base_uri": "https://localhost:8080/",
          "height": 68
        }
      },
      "source": [
        "a=int(input(\"enter age\"))\n",
        "print(a)\n",
        "print(type(a))"
      ],
      "execution_count": 0,
      "outputs": [
        {
          "output_type": "stream",
          "text": [
            "enter age18\n",
            "18\n",
            "<class 'int'>\n"
          ],
          "name": "stdout"
        }
      ]
    },
    {
      "cell_type": "markdown",
      "metadata": {
        "id": "5vxN18H3TcOp",
        "colab_type": "text"
      },
      "source": [
        ""
      ]
    },
    {
      "cell_type": "markdown",
      "metadata": {
        "id": "LOT7Rm6uTfhX",
        "colab_type": "text"
      },
      "source": [
        "#Operators\n",
        "- operator is a symbol is used to perform a specific kind of operations\n",
        "##Arthametic operators\n",
        "- +\n",
        "- -\n",
        "- *\n",
        "- /\n",
        "- %\n",
        "- //\n",
        "- **"
      ]
    },
    {
      "cell_type": "code",
      "metadata": {
        "id": "GwCnWmofUTgY",
        "colab_type": "code",
        "outputId": "60efb063-ae42-4d60-a75b-d6d903814573",
        "colab": {
          "base_uri": "https://localhost:8080/",
          "height": 136
        }
      },
      "source": [
        "n1=123\n",
        "print(n1+10)\n",
        "print(n1-10)\n",
        "print(n1*10)\n",
        "print(n1/10)\n",
        "print(n1%10)\n",
        "print(n1//10)\n",
        "print(n1**10)\n",
        "\n",
        "\n"
      ],
      "execution_count": 0,
      "outputs": [
        {
          "output_type": "stream",
          "text": [
            "133\n",
            "113\n",
            "1230\n",
            "12.3\n",
            "3\n",
            "12\n",
            "792594609605189126649\n"
          ],
          "name": "stdout"
        }
      ]
    },
    {
      "cell_type": "code",
      "metadata": {
        "id": "vRMJC3VDUaP4",
        "colab_type": "code",
        "colab": {}
      },
      "source": [
        ""
      ],
      "execution_count": 0,
      "outputs": []
    },
    {
      "cell_type": "markdown",
      "metadata": {
        "id": "iV6lC82AVMbs",
        "colab_type": "text"
      },
      "source": [
        "#precedence of the arthametic operator\n",
        "- peranthesis\n",
        "- power\n",
        "- multiplication\n",
        "- division\n",
        "- addition\n"
      ]
    },
    {
      "cell_type": "code",
      "metadata": {
        "id": "Md6utQo6VjYC",
        "colab_type": "code",
        "outputId": "ccf721e4-6c7a-4cbf-ff04-14f581688555",
        "colab": {
          "base_uri": "https://localhost:8080/",
          "height": 34
        }
      },
      "source": [
        "x=1+2**3/4+5\n",
        "print(x)"
      ],
      "execution_count": 0,
      "outputs": [
        {
          "output_type": "stream",
          "text": [
            "8.0\n"
          ],
          "name": "stdout"
        }
      ]
    },
    {
      "cell_type": "code",
      "metadata": {
        "id": "HWfdqaZEVzfZ",
        "colab_type": "code",
        "outputId": "647e0011-9fa3-4b05-b096-e22f1adf226f",
        "colab": {
          "base_uri": "https://localhost:8080/",
          "height": 34
        }
      },
      "source": [
        "x=1+2**3/4*5\n",
        "print(x)"
      ],
      "execution_count": 0,
      "outputs": [
        {
          "output_type": "stream",
          "text": [
            "11.0\n"
          ],
          "name": "stdout"
        }
      ]
    },
    {
      "cell_type": "code",
      "metadata": {
        "id": "bIz5XSVyXEnl",
        "colab_type": "code",
        "colab": {}
      },
      "source": [
        ""
      ],
      "execution_count": 0,
      "outputs": []
    },
    {
      "cell_type": "markdown",
      "metadata": {
        "id": "UC4qFI7kYHAT",
        "colab_type": "text"
      },
      "source": [
        "#Relational Operators\n",
        "-==,\n",
        "-!=,\n",
        "-<,\n",
        "->,\n",
        "-<=,\n",
        "->="
      ]
    },
    {
      "cell_type": "code",
      "metadata": {
        "id": "IA1R5QMKYsBc",
        "colab_type": "code",
        "outputId": "c1ff1ccd-a025-48f6-e5b9-9b40a2e128ab",
        "colab": {
          "base_uri": "https://localhost:8080/",
          "height": 34
        }
      },
      "source": [
        "a=10\n",
        "a1=a>15\n",
        "print(a1)"
      ],
      "execution_count": 0,
      "outputs": [
        {
          "output_type": "stream",
          "text": [
            "False\n"
          ],
          "name": "stdout"
        }
      ]
    },
    {
      "cell_type": "markdown",
      "metadata": {
        "id": "cKrHvxyyY6MJ",
        "colab_type": "text"
      },
      "source": [
        ""
      ]
    },
    {
      "cell_type": "markdown",
      "metadata": {
        "id": "qR-NIfBgY-Jg",
        "colab_type": "text"
      },
      "source": [
        "#Logical Opetators\n"
      ]
    },
    {
      "cell_type": "code",
      "metadata": {
        "id": "F7vqYQJbZDXb",
        "colab_type": "code",
        "outputId": "0d82a5ab-2e21-469f-e3b9-d8d126a672be",
        "colab": {
          "base_uri": "https://localhost:8080/",
          "height": 68
        }
      },
      "source": [
        "x=20\n",
        "y=30\n",
        "print(x>=10 and x<=209)\n",
        "print(x>=10 or x<=20)\n",
        "print(not x)"
      ],
      "execution_count": 0,
      "outputs": [
        {
          "output_type": "stream",
          "text": [
            "True\n",
            "True\n",
            "False\n"
          ],
          "name": "stdout"
        }
      ]
    },
    {
      "cell_type": "code",
      "metadata": {
        "id": "o_ymkkZhZd1m",
        "colab_type": "code",
        "colab": {}
      },
      "source": [
        ""
      ],
      "execution_count": 0,
      "outputs": []
    },
    {
      "cell_type": "markdown",
      "metadata": {
        "id": "TvwIIc79Z_qZ",
        "colab_type": "text"
      },
      "source": [
        "#Membership Operator\n"
      ]
    },
    {
      "cell_type": "code",
      "metadata": {
        "id": "X29htyREaGEb",
        "colab_type": "code",
        "outputId": "677f9d9c-1a4b-4400-eb44-66312ae3093e",
        "colab": {
          "base_uri": "https://localhost:8080/",
          "height": 51
        }
      },
      "source": [
        "str1=\"abc\"\n",
        "print('a' in str1)\n",
        "print('a' not in str1)"
      ],
      "execution_count": 0,
      "outputs": [
        {
          "output_type": "stream",
          "text": [
            "True\n",
            "False\n"
          ],
          "name": "stdout"
        }
      ]
    },
    {
      "cell_type": "code",
      "metadata": {
        "id": "T3HUbKucaeZD",
        "colab_type": "code",
        "colab": {}
      },
      "source": [
        ""
      ],
      "execution_count": 0,
      "outputs": []
    },
    {
      "cell_type": "markdown",
      "metadata": {
        "id": "pvlxJYSLauZK",
        "colab_type": "text"
      },
      "source": [
        "#Conditional Statements\n",
        "- if -else statement\n",
        "##syntax:\n",
        "####if condition:\n",
        "> statements<br>\n",
        "####else:\n",
        "> statements\n"
      ]
    },
    {
      "cell_type": "code",
      "metadata": {
        "id": "e-e56jYkcHyU",
        "colab_type": "code",
        "outputId": "0d0fcce2-b638-4a74-c61b-b4f0900cbc48",
        "colab": {
          "base_uri": "https://localhost:8080/",
          "height": 51
        }
      },
      "source": [
        "# even or odd\n",
        "n=int(input(\"enter a number\"))\n",
        "if n%2==0:\n",
        "  print(\"even number\")\n",
        "\n",
        "else:\n",
        "  print(\"odd number\")\n"
      ],
      "execution_count": 0,
      "outputs": [
        {
          "output_type": "stream",
          "text": [
            "enter a number2\n",
            "even number\n"
          ],
          "name": "stdout"
        }
      ]
    },
    {
      "cell_type": "code",
      "metadata": {
        "id": "tyKU0h7Eco_G",
        "colab_type": "code",
        "outputId": "2ea90ebe-0cfb-45a4-8f09-b33a3f24ed2f",
        "colab": {
          "base_uri": "https://localhost:8080/",
          "height": 51
        }
      },
      "source": [
        "# check given no is perfectly multiple of 3 and 5\n",
        "n=int(input('enter a number'))\n",
        "if n%3==0 and n%5==0:\n",
        "  print(\"divisible by 3 and 5\")\n",
        "else:\n",
        "  print(\"not divisable by 3 and 5\")\n"
      ],
      "execution_count": 0,
      "outputs": [
        {
          "output_type": "stream",
          "text": [
            "enter a number10\n",
            "not divisable by 3 and 5\n"
          ],
          "name": "stdout"
        }
      ]
    },
    {
      "cell_type": "code",
      "metadata": {
        "id": "uU4_5Susdl5T",
        "colab_type": "code",
        "outputId": "4acb5dec-5436-49dd-c4d6-88d938c11d0c",
        "colab": {
          "base_uri": "https://localhost:8080/",
          "height": 51
        }
      },
      "source": [
        "#check the given no is +ve or -ve or zero\n",
        "n=int(input(\"enter a number\"))\n",
        "if n>0:\n",
        "  print(\"positive\")\n",
        "elif n<0:\n",
        "  print(\"negitive\")\n",
        "else:\n",
        "  print(\"zero\") "
      ],
      "execution_count": 0,
      "outputs": [
        {
          "output_type": "stream",
          "text": [
            "enter a number223\n",
            "positive\n"
          ],
          "name": "stdout"
        }
      ]
    },
    {
      "cell_type": "code",
      "metadata": {
        "id": "tOQO8K6Oe_Dp",
        "colab_type": "code",
        "outputId": "dcf436c0-e1ee-4094-ede4-8bfbc384170f",
        "colab": {
          "base_uri": "https://localhost:8080/",
          "height": 51
        }
      },
      "source": [
        "#given number is leap year or not\n",
        "n=int(input(\"enter a number\"))\n",
        "if n%400 or(n%100!=0 and n%4==0):\n",
        "  print(\"leap year\")\n",
        "else:\n",
        "  print(\"not a leap year\")\n",
        "  "
      ],
      "execution_count": 0,
      "outputs": [
        {
          "output_type": "stream",
          "text": [
            "enter a number2028\n",
            "leap year\n"
          ],
          "name": "stdout"
        }
      ]
    },
    {
      "cell_type": "code",
      "metadata": {
        "id": "PSdkFLgBiEXS",
        "colab_type": "code",
        "colab": {}
      },
      "source": [
        ""
      ],
      "execution_count": 0,
      "outputs": []
    }
  ]
}