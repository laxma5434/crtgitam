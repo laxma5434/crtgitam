{
  "nbformat": 4,
  "nbformat_minor": 0,
  "metadata": {
    "colab": {
      "name": "27-12-19.ipynb",
      "provenance": [],
      "collapsed_sections": []
    },
    "kernelspec": {
      "name": "python3",
      "display_name": "Python 3"
    }
  },
  "cells": [
    {
      "cell_type": "markdown",
      "metadata": {
        "id": "32CCEwAEeDn4",
        "colab_type": "text"
      },
      "source": [
        "#List Examples\n"
      ]
    },
    {
      "cell_type": "code",
      "metadata": {
        "id": "ctzMF14weOwO",
        "colab_type": "code",
        "outputId": "4c6d7f7a-d445-4afa-b926-bcf6782efa69",
        "colab": {
          "base_uri": "https://localhost:8080/",
          "height": 136
        }
      },
      "source": [
        "li=[\"gitam\",123,32321,4543,543,454]\n",
        "print(li)\n",
        "print(li[2:])\n",
        "print(li[2:4])\n",
        "print(li[-1])\n",
        "print(li[-4:-1])\n",
        "print(li[::-1])\n",
        "print (li[-1::-1])"
      ],
      "execution_count": 0,
      "outputs": [
        {
          "output_type": "stream",
          "text": [
            "['gitam', 123, 32321, 4543, 543, 454]\n",
            "[32321, 4543, 543, 454]\n",
            "[32321, 4543]\n",
            "454\n",
            "[32321, 4543, 543]\n",
            "[454, 543, 4543, 32321, 123, 'gitam']\n",
            "[454, 543, 4543, 32321, 123, 'gitam']\n"
          ],
          "name": "stdout"
        }
      ]
    },
    {
      "cell_type": "code",
      "metadata": {
        "id": "0j3NJuCjelzC",
        "colab_type": "code",
        "outputId": "2dbcb83e-f427-47b5-93bd-e542bd48b2ce",
        "colab": {
          "base_uri": "https://localhost:8080/",
          "height": 34
        }
      },
      "source": [
        "#update\n",
        "li[0]=\"kushal\"\n",
        "print(li)\n"
      ],
      "execution_count": 0,
      "outputs": [
        {
          "output_type": "stream",
          "text": [
            "['kushal', 123, 32321, 4543, 543, 454]\n"
          ],
          "name": "stdout"
        }
      ]
    },
    {
      "cell_type": "code",
      "metadata": {
        "id": "OaPYyWISezDe",
        "colab_type": "code",
        "outputId": "874b1fa3-eb73-4545-ea78-8d4ec219feaa",
        "colab": {
          "base_uri": "https://localhost:8080/",
          "height": 34
        }
      },
      "source": [
        "#delete\n",
        "del li[3]\n",
        "print(li)"
      ],
      "execution_count": 0,
      "outputs": [
        {
          "output_type": "stream",
          "text": [
            "['kushal', 123, 32321, 543, 454]\n"
          ],
          "name": "stdout"
        }
      ]
    },
    {
      "cell_type": "code",
      "metadata": {
        "id": "ZB6FP8cDfMkk",
        "colab_type": "code",
        "outputId": "cb95ddb1-b166-4f04-fc41-cc2b8a1082cd",
        "colab": {
          "base_uri": "https://localhost:8080/",
          "height": 85
        }
      },
      "source": [
        "li=[1,23,454,67,65,5]\n",
        "print(len(li))\n",
        "print(li*2)\n",
        "print(6in li)\n",
        "print(1 in li)"
      ],
      "execution_count": 0,
      "outputs": [
        {
          "output_type": "stream",
          "text": [
            "6\n",
            "[1, 23, 454, 67, 65, 5, 1, 23, 454, 67, 65, 5]\n",
            "False\n",
            "True\n"
          ],
          "name": "stdout"
        }
      ]
    },
    {
      "cell_type": "markdown",
      "metadata": {
        "id": "zRPVsYRrhoqO",
        "colab_type": "text"
      },
      "source": [
        "# Basic List functions"
      ]
    },
    {
      "cell_type": "code",
      "metadata": {
        "id": "MJ_bMpGohvCv",
        "colab_type": "code",
        "outputId": "7677e973-f70e-4ee1-bf68-71f23652b03e",
        "colab": {
          "base_uri": "https://localhost:8080/",
          "height": 85
        }
      },
      "source": [
        "li=[1,2,3,4,5,6]\n",
        "print(max(li))\n",
        "print(min(li))\n",
        "print(sum(li))\n",
        "print(sum(li)/len(li))  #Average\n"
      ],
      "execution_count": 0,
      "outputs": [
        {
          "output_type": "stream",
          "text": [
            "6\n",
            "1\n",
            "21\n",
            "3.5\n"
          ],
          "name": "stdout"
        }
      ]
    },
    {
      "cell_type": "code",
      "metadata": {
        "id": "QE9ba6UFjBiB",
        "colab_type": "code",
        "outputId": "6baa12e4-7cdc-4bbb-9bd9-b0ff4e2c5d75",
        "colab": {
          "base_uri": "https://localhost:8080/",
          "height": 51
        }
      },
      "source": [
        "li=[1,2,3,4,5,6,]\n",
        "li.append(29) #Add a number at the end\n",
        "print(li)\n",
        "li.insert(2,56) #inserting in the specific index\n",
        "print(li)"
      ],
      "execution_count": 0,
      "outputs": [
        {
          "output_type": "stream",
          "text": [
            "[1, 2, 3, 4, 5, 6, 29]\n",
            "[1, 2, 56, 3, 4, 5, 6, 29]\n"
          ],
          "name": "stdout"
        }
      ]
    },
    {
      "cell_type": "code",
      "metadata": {
        "id": "V6lCCtEqg9kq",
        "colab_type": "code",
        "outputId": "cf2f164a-fcb4-4037-b211-3e08eb490bbc",
        "colab": {
          "base_uri": "https://localhost:8080/",
          "height": 68
        }
      },
      "source": [
        "li=[1,2,56,3,4,5,6,29]\n",
        "li.sort() #Sort the list in ascending order\n",
        "print(li)\n",
        "li.pop() # last index will be deleted\n",
        "print(li)\n",
        "li.pop(1) #removies specific index value\n",
        "print(li)"
      ],
      "execution_count": 0,
      "outputs": [
        {
          "output_type": "stream",
          "text": [
            "[1, 2, 3, 4, 5, 6, 29, 56]\n",
            "[1, 2, 3, 4, 5, 6, 29]\n",
            "[1, 3, 4, 5, 6, 29]\n"
          ],
          "name": "stdout"
        }
      ]
    },
    {
      "cell_type": "code",
      "metadata": {
        "id": "-H3XlWsvlHMH",
        "colab_type": "code",
        "outputId": "2720d2a3-7cbe-46b8-a7b2-2d921f061524",
        "colab": {
          "base_uri": "https://localhost:8080/",
          "height": 51
        }
      },
      "source": [
        "# function to return large no from from the list\n",
        "def largenumber(li):\n",
        "  li.sort()\n",
        "  return li[-1]\n",
        "def genericlarge(li,n):\n",
        "  li.sort()\n",
        "  return li[-n]\n",
        "li=[19,1,2,34,95,34,67,2]\n",
        "print(largenumber(li))\n",
        "print(genericlarge(li,3))"
      ],
      "execution_count": 0,
      "outputs": [
        {
          "output_type": "stream",
          "text": [
            "95\n",
            "34\n"
          ],
          "name": "stdout"
        }
      ]
    },
    {
      "cell_type": "code",
      "metadata": {
        "id": "sYTWWDxukpJm",
        "colab_type": "code",
        "outputId": "31e8416b-94b7-4265-fae0-89b45ecb5cdc",
        "colab": {
          "base_uri": "https://localhost:8080/",
          "height": 51
        }
      },
      "source": [
        "def smallnumber(li):\n",
        "  li.sort()\n",
        "  return li[0]\n",
        "def genericsmall(li,n):\n",
        "  li.sort()\n",
        "  return li[n]\n",
        "li=[33,11,3,36568,44,55,66,3323]\n",
        "print(smallnumber(li))\n",
        "print(genericsmall(li,4))"
      ],
      "execution_count": 0,
      "outputs": [
        {
          "output_type": "stream",
          "text": [
            "3\n",
            "55\n"
          ],
          "name": "stdout"
        }
      ]
    },
    {
      "cell_type": "code",
      "metadata": {
        "id": "nBgwK7BIok3t",
        "colab_type": "code",
        "colab": {}
      },
      "source": [
        ""
      ],
      "execution_count": 0,
      "outputs": []
    },
    {
      "cell_type": "markdown",
      "metadata": {
        "id": "SZSHpI5bpbOZ",
        "colab_type": "text"
      },
      "source": [
        "#Tuples\n",
        "- Values sapereated by comma enclosed by by parenthesis()\n",
        "- values cannot be changable i.e immutable\n",
        "# Difference b/w list list and tuples\n",
        "- list can be modified\n",
        "- list used to access means modify, add,delete,update\n",
        "- tuple cannot be modified\n",
        "- used to access data only\n"
      ]
    },
    {
      "cell_type": "code",
      "metadata": {
        "id": "NzCFEmMCrEMs",
        "colab_type": "code",
        "outputId": "6836a567-937d-4796-c30c-3a5f2779791a",
        "colab": {
          "base_uri": "https://localhost:8080/",
          "height": 51
        }
      },
      "source": [
        "t1=(1,2,3,4,5)\n",
        "print(t1)\n",
        "print(type(t1))\n"
      ],
      "execution_count": 0,
      "outputs": [
        {
          "output_type": "stream",
          "text": [
            "(1, 2, 3, 4, 5)\n",
            "<class 'tuple'>\n"
          ],
          "name": "stdout"
        }
      ]
    },
    {
      "cell_type": "code",
      "metadata": {
        "id": "tS1NzOUPrWvf",
        "colab_type": "code",
        "colab": {}
      },
      "source": [
        ""
      ],
      "execution_count": 0,
      "outputs": []
    },
    {
      "cell_type": "markdown",
      "metadata": {
        "id": "QZXvKVpNt0c6",
        "colab_type": "text"
      },
      "source": [
        "# Dictionaries:\n",
        "- Works on concept of set unique data\n",
        "-  dictionery contains keys and values \n",
        "- Each key is separeated from its values with colon':'\n",
        "- Each key and values separeated bu comma ,\n",
        "- And dictionary enclosed by {}\n",
        "\n"
      ]
    },
    {
      "cell_type": "code",
      "metadata": {
        "id": "NJEpnu4Tu-v9",
        "colab_type": "code",
        "outputId": "b6494247-3b04-4f32-d247-bef2de34f090",
        "colab": {
          "base_uri": "https://localhost:8080/",
          "height": 34
        }
      },
      "source": [
        "d1={\"name\":\"gitam\",\"gmail\":\"gitam@gmail.com\",\"address\":\"hyderabad\"}\n",
        "print(d1)"
      ],
      "execution_count": 0,
      "outputs": [
        {
          "output_type": "stream",
          "text": [
            "{'name': 'gitam', 'gmail': 'gitam@gmail.com', 'address': 'hyderabad'}\n"
          ],
          "name": "stdout"
        }
      ]
    },
    {
      "cell_type": "code",
      "metadata": {
        "id": "NsxkeYlGvWqW",
        "colab_type": "code",
        "outputId": "d3ab6667-8af2-4f68-8d6c-92bce4c0d0ab",
        "colab": {
          "base_uri": "https://localhost:8080/",
          "height": 34
        }
      },
      "source": [
        "d1[\"name\"]"
      ],
      "execution_count": 0,
      "outputs": [
        {
          "output_type": "execute_result",
          "data": {
            "text/plain": [
              "'gitam'"
            ]
          },
          "metadata": {
            "tags": []
          },
          "execution_count": 27
        }
      ]
    },
    {
      "cell_type": "code",
      "metadata": {
        "id": "B1v5P4uDxEkC",
        "colab_type": "code",
        "outputId": "83da7d24-7234-410c-bfcd-8ee8e3a0dfb5",
        "colab": {
          "base_uri": "https://localhost:8080/",
          "height": 34
        }
      },
      "source": [
        "d1['course']='python'\n",
        "print(d1)"
      ],
      "execution_count": 0,
      "outputs": [
        {
          "output_type": "stream",
          "text": [
            "{'name': 'gitam', 'gmail': 'gitam@gmail.com', 'address': 'hyderabad', 'course': 'python'}\n"
          ],
          "name": "stdout"
        }
      ]
    },
    {
      "cell_type": "code",
      "metadata": {
        "id": "Uskra5uOxS9S",
        "colab_type": "code",
        "outputId": "feec4844-b424-4c5d-9f6f-84ed3177ac73",
        "colab": {
          "base_uri": "https://localhost:8080/",
          "height": 34
        }
      },
      "source": [
        "del d1[\"gmail\"]\n",
        "print(d1)"
      ],
      "execution_count": 0,
      "outputs": [
        {
          "output_type": "stream",
          "text": [
            "{'name': 'gitam', 'address': 'hyderabad', 'course': 'python'}\n"
          ],
          "name": "stdout"
        }
      ]
    },
    {
      "cell_type": "code",
      "metadata": {
        "id": "zBB5yz_gx0Id",
        "colab_type": "code",
        "outputId": "be5d4899-d139-42ac-d991-e8e48240e322",
        "colab": {
          "base_uri": "https://localhost:8080/",
          "height": 34
        }
      },
      "source": [
        "d1.keys()"
      ],
      "execution_count": 0,
      "outputs": [
        {
          "output_type": "execute_result",
          "data": {
            "text/plain": [
              "dict_keys(['name', 'address', 'course'])"
            ]
          },
          "metadata": {
            "tags": []
          },
          "execution_count": 34
        }
      ]
    },
    {
      "cell_type": "code",
      "metadata": {
        "id": "O4AVagYx0APN",
        "colab_type": "code",
        "outputId": "a6156f94-7e81-428a-ce55-28deb63dfd91",
        "colab": {
          "base_uri": "https://localhost:8080/",
          "height": 34
        }
      },
      "source": [
        "d1.items()"
      ],
      "execution_count": 0,
      "outputs": [
        {
          "output_type": "execute_result",
          "data": {
            "text/plain": [
              "dict_items([('name', 'gitam'), ('address', 'hyderabad'), ('course', 'python')])"
            ]
          },
          "metadata": {
            "tags": []
          },
          "execution_count": 35
        }
      ]
    },
    {
      "cell_type": "code",
      "metadata": {
        "id": "DlVsk3fJ0N_l",
        "colab_type": "code",
        "colab": {}
      },
      "source": [
        ""
      ],
      "execution_count": 0,
      "outputs": []
    },
    {
      "cell_type": "markdown",
      "metadata": {
        "id": "C0f_5wiS0faZ",
        "colab_type": "text"
      },
      "source": [
        "# String:"
      ]
    },
    {
      "cell_type": "code",
      "metadata": {
        "id": "qJN1cr-W0ljp",
        "colab_type": "code",
        "outputId": "842fc29e-ee31-42be-f740-993b10689248",
        "colab": {
          "base_uri": "https://localhost:8080/",
          "height": 119
        }
      },
      "source": [
        "s1='python'\n",
        "print(s1)\n",
        "print(type(s1))\n",
        "print(s1[0])\n",
        "print(s1[5])\n",
        "print(s1[2:])\n",
        "print(s1[::-1])\n"
      ],
      "execution_count": 0,
      "outputs": [
        {
          "output_type": "stream",
          "text": [
            "python\n",
            "<class 'str'>\n",
            "p\n",
            "n\n",
            "thon\n",
            "nohtyp\n"
          ],
          "name": "stdout"
        }
      ]
    },
    {
      "cell_type": "code",
      "metadata": {
        "id": "1J2XOd3l0yJ9",
        "colab_type": "code",
        "outputId": "9027fbf8-bb3b-48ee-be40-6e5feb1b57f9",
        "colab": {
          "base_uri": "https://localhost:8080/",
          "height": 51
        }
      },
      "source": [
        "s1='python'\n",
        "print(s1[len(s1)//2])\n",
        "print(s1[0:6:2])"
      ],
      "execution_count": 0,
      "outputs": [
        {
          "output_type": "stream",
          "text": [
            "h\n",
            "pto\n"
          ],
          "name": "stdout"
        }
      ]
    },
    {
      "cell_type": "code",
      "metadata": {
        "id": "Y1QEN0t02hzf",
        "colab_type": "code",
        "outputId": "70d89f8a-976e-43ce-bdb9-4e0c640832e0",
        "colab": {
          "base_uri": "https://localhost:8080/",
          "height": 34
        }
      },
      "source": [
        "def revofthestring(str):\n",
        "  return str[::-1]\n",
        "revofthestring(\"programming\")"
      ],
      "execution_count": 0,
      "outputs": [
        {
          "output_type": "execute_result",
          "data": {
            "text/plain": [
              "'gnimmargorp'"
            ]
          },
          "metadata": {
            "tags": []
          },
          "execution_count": 43
        }
      ]
    },
    {
      "cell_type": "code",
      "metadata": {
        "id": "BD9BFLQE3cQg",
        "colab_type": "code",
        "outputId": "0806704c-fc58-422b-e164-38634dec353e",
        "colab": {
          "base_uri": "https://localhost:8080/",
          "height": 51
        }
      },
      "source": [
        "def palindrom(str):\n",
        "   if str==str[::-1]:\n",
        "      return True\n",
        "   else:\n",
        "      return False\n",
        "print(palindrom(\"sos\"))\n",
        "print(palindrom(\"programing\"))"
      ],
      "execution_count": 0,
      "outputs": [
        {
          "output_type": "stream",
          "text": [
            "True\n",
            "False\n"
          ],
          "name": "stdout"
        }
      ]
    },
    {
      "cell_type": "markdown",
      "metadata": {
        "id": "2xrD6H4P6wmk",
        "colab_type": "text"
      },
      "source": [
        "# String buil-in-methods\n",
        "- upper( )\n",
        "- lower( )\n",
        "- islower( )\n",
        "- isupper( )\n",
        "- istitle ( )\n",
        "- isnumaric( )\n",
        "- isalpha( )\n",
        "- isspace( )"
      ]
    },
    {
      "cell_type": "code",
      "metadata": {
        "id": "MtZ2I4TT6IOP",
        "colab_type": "code",
        "outputId": "dd926604-eec4-4cc7-9eef-ace14ab9319f",
        "colab": {
          "base_uri": "https://localhost:8080/",
          "height": 153
        }
      },
      "source": [
        "s1='Python'\n",
        "print(s1.upper())\n",
        "print(s1.lower())\n",
        "print(s1.isupper())\n",
        "print(s1.islower())\n",
        "print(s1.istitle())\n",
        "print(s1.isnumeric())\n",
        "print(s1.isalpha())\n",
        "print(s1.isspace())"
      ],
      "execution_count": 0,
      "outputs": [
        {
          "output_type": "stream",
          "text": [
            "PYTHON\n",
            "python\n",
            "False\n",
            "False\n",
            "True\n",
            "False\n",
            "True\n",
            "False\n"
          ],
          "name": "stdout"
        }
      ]
    },
    {
      "cell_type": "code",
      "metadata": {
        "id": "5ixInOtK9QV1",
        "colab_type": "code",
        "outputId": "5c2bc860-dac4-44ed-a32b-8c96b7d12255",
        "colab": {
          "base_uri": "https://localhost:8080/",
          "height": 34
        }
      },
      "source": [
        "s1=\"py th on\"\n",
        "print(s1.isspace())"
      ],
      "execution_count": 0,
      "outputs": [
        {
          "output_type": "stream",
          "text": [
            "False\n"
          ],
          "name": "stdout"
        }
      ]
    },
    {
      "cell_type": "code",
      "metadata": {
        "id": "BnbYndj4BLbz",
        "colab_type": "code",
        "colab": {}
      },
      "source": [
        ""
      ],
      "execution_count": 0,
      "outputs": []
    },
    {
      "cell_type": "markdown",
      "metadata": {
        "id": "dSYX69hWBLsy",
        "colab_type": "text"
      },
      "source": [
        "#Strings Methods\n",
        "- join( )\n",
        "- split( )\n",
        "- replace( )\n"
      ]
    },
    {
      "cell_type": "code",
      "metadata": {
        "id": "d12Dqae_BiIa",
        "colab_type": "code",
        "outputId": "d9d7f9b1-f063-4727-8c4d-6c128e6cd986",
        "colab": {
          "base_uri": "https://localhost:8080/",
          "height": 51
        }
      },
      "source": [
        "s1=\"python\"\n",
        "print(\" \".join(s1))\n",
        "print(\",\".join(s1))\n"
      ],
      "execution_count": 0,
      "outputs": [
        {
          "output_type": "stream",
          "text": [
            "p y t h o n\n",
            "p,y,t,h,o,n\n"
          ],
          "name": "stdout"
        }
      ]
    },
    {
      "cell_type": "code",
      "metadata": {
        "id": "jWy8pqHJB6gp",
        "colab_type": "code",
        "outputId": "c2115361-acbf-4e28-da2e-439b35e5dd77",
        "colab": {
          "base_uri": "https://localhost:8080/",
          "height": 34
        }
      },
      "source": [
        "s1=\"python is very easy to learn\"\n",
        "print(\",\".join (s1))\n"
      ],
      "execution_count": 0,
      "outputs": [
        {
          "output_type": "stream",
          "text": [
            "p,y,t,h,o,n, ,i,s, ,v,e,r,y, ,e,a,s,y, ,t,o, ,l,e,a,r,n\n"
          ],
          "name": "stdout"
        }
      ]
    },
    {
      "cell_type": "code",
      "metadata": {
        "id": "jwEwgmiZCKlU",
        "colab_type": "code",
        "outputId": "94cc1bcf-bdc9-4814-d1c6-ca8df4300cda",
        "colab": {
          "base_uri": "https://localhost:8080/",
          "height": 51
        }
      },
      "source": [
        "s1=\"python is very easy to learn\"\n",
        "print(s1.split())\n",
        "print(s1.split('a'))\n"
      ],
      "execution_count": 0,
      "outputs": [
        {
          "output_type": "stream",
          "text": [
            "['python', 'is', 'very', 'easy', 'to', 'learn']\n",
            "['python is very e', 'sy to le', 'rn']\n"
          ],
          "name": "stdout"
        }
      ]
    },
    {
      "cell_type": "code",
      "metadata": {
        "id": "VUT17B1kCfY3",
        "colab_type": "code",
        "outputId": "da3cae27-fc4a-4048-e4df-b03608a00291",
        "colab": {
          "base_uri": "https://localhost:8080/",
          "height": 34
        }
      },
      "source": [
        "s1=\"python is very easy to learn\"\n",
        "li=list(s1)\n",
        "print(li)"
      ],
      "execution_count": 0,
      "outputs": [
        {
          "output_type": "stream",
          "text": [
            "['p', 'y', 't', 'h', 'o', 'n', ' ', 'i', 's', ' ', 'v', 'e', 'r', 'y', ' ', 'e', 'a', 's', 'y', ' ', 't', 'o', ' ', 'l', 'e', 'a', 'r', 'n']\n"
          ],
          "name": "stdout"
        }
      ]
    },
    {
      "cell_type": "code",
      "metadata": {
        "id": "55laSQ6eCuBn",
        "colab_type": "code",
        "outputId": "37b198dd-ebdc-4a81-9a2a-33090e77d314",
        "colab": {
          "base_uri": "https://localhost:8080/",
          "height": 34
        }
      },
      "source": [
        "s1=\"python is easy to learn\"\n",
        "print(s1.replace(\"easy\",\"vary easy\"))\n"
      ],
      "execution_count": 0,
      "outputs": [
        {
          "output_type": "stream",
          "text": [
            "python is vary easy to learn\n"
          ],
          "name": "stdout"
        }
      ]
    },
    {
      "cell_type": "code",
      "metadata": {
        "id": "nEK0-qLSDDxr",
        "colab_type": "code",
        "outputId": "e1f525a7-8bc8-49cf-e32c-3508fc8bc203",
        "colab": {
          "base_uri": "https://localhost:8080/",
          "height": 34
        }
      },
      "source": [
        "marks={'peter':[80,85,90],'joe':[86,90,95]}\n",
        "marks['peter']"
      ],
      "execution_count": 0,
      "outputs": [
        {
          "output_type": "execute_result",
          "data": {
            "text/plain": [
              "[80, 85, 90]"
            ]
          },
          "metadata": {
            "tags": []
          },
          "execution_count": 74
        }
      ]
    },
    {
      "cell_type": "code",
      "metadata": {
        "id": "7kLpFJJBGx1m",
        "colab_type": "code",
        "outputId": "af6cb096-e733-4cdc-c8cf-3cde9ff38c95",
        "colab": {
          "base_uri": "https://localhost:8080/",
          "height": 85
        }
      },
      "source": [
        "print(marks['peter'])\n",
        "l1=marks['peter']\n",
        "l2=marks['joe']\n",
        "print(l1[1])\n",
        "print(l2[0])\n",
        "print(l2[::-1])"
      ],
      "execution_count": 0,
      "outputs": [
        {
          "output_type": "stream",
          "text": [
            "[80, 85, 90]\n",
            "85\n",
            "86\n",
            "[95, 90, 86]\n"
          ],
          "name": "stdout"
        }
      ]
    },
    {
      "cell_type": "code",
      "metadata": {
        "id": "V8jVVVA6Hcxr",
        "colab_type": "code",
        "colab": {}
      },
      "source": [
        ""
      ],
      "execution_count": 0,
      "outputs": []
    }
  ]
}