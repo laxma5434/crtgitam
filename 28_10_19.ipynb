{
  "nbformat": 4,
  "nbformat_minor": 0,
  "metadata": {
    "colab": {
      "name": "28-10-19.ipynb",
      "provenance": [],
      "collapsed_sections": []
    },
    "kernelspec": {
      "name": "python3",
      "display_name": "Python 3"
    }
  },
  "cells": [
    {
      "cell_type": "code",
      "metadata": {
        "id": "0E1sout0oduN",
        "colab_type": "code",
        "outputId": "dbf440a2-b824-422b-8fd8-b2b1c4e0dd5e",
        "colab": {
          "base_uri": "https://localhost:8080/",
          "height": 34
        }
      },
      "source": [
        "#input str=\"pynative\"\n",
        "#output='p','n','t',v' . complete this qustion using function\n",
        "def function(n):\n",
        "  li=list(n)\n",
        "  return (li)[::2]\n",
        "function(\"pynative\")\n"
      ],
      "execution_count": 0,
      "outputs": [
        {
          "output_type": "execute_result",
          "data": {
            "text/plain": [
              "['p', 'n', 't', 'v']"
            ]
          },
          "metadata": {
            "tags": []
          },
          "execution_count": 2
        }
      ]
    },
    {
      "cell_type": "code",
      "metadata": {
        "id": "ovC28ZlUrT2w",
        "colab_type": "code",
        "outputId": "3b71d1fd-aaaa-4249-e074-d32a781a44c1",
        "colab": {
          "base_uri": "https://localhost:8080/",
          "height": 51
        }
      },
      "source": [
        "def fristandlast(n):\n",
        "  if n[0]==n[-1]:\n",
        "    return True\n",
        "  else:\n",
        "    return False\n",
        "n1=[1,2,3,4,1]\n",
        "n2=[1,2,3,4,5,6]\n",
        "print(fristandlast(n1))\n",
        "print(fristandlast(n2))\n"
      ],
      "execution_count": 0,
      "outputs": [
        {
          "output_type": "stream",
          "text": [
            "True\n",
            "False\n"
          ],
          "name": "stdout"
        }
      ]
    },
    {
      "cell_type": "code",
      "metadata": {
        "id": "vu-yrGyfsvJq",
        "colab_type": "code",
        "outputId": "12432d9f-2b8a-494c-91b9-afa1b2b8fe7d",
        "colab": {
          "base_uri": "https://localhost:8080/",
          "height": 187
        }
      },
      "source": [
        "i=1\n",
        "n=5\n",
        "for i in range(1,6):\n",
        "    for j in range(0,i):\n",
        "        print(i,end=\" \")\n",
        "    print(\"\\n\")"
      ],
      "execution_count": 0,
      "outputs": [
        {
          "output_type": "stream",
          "text": [
            "1 \n",
            "\n",
            "2 2 \n",
            "\n",
            "3 3 3 \n",
            "\n",
            "4 4 4 4 \n",
            "\n",
            "5 5 5 5 5 \n",
            "\n"
          ],
          "name": "stdout"
        }
      ]
    },
    {
      "cell_type": "code",
      "metadata": {
        "id": "cHp_d4yvwN3n",
        "colab_type": "code",
        "outputId": "11f80e91-393a-4355-baa8-a45056b19b61",
        "colab": {
          "base_uri": "https://localhost:8080/",
          "height": 136
        }
      },
      "source": [
        "a=input(\"enter your name\")\n",
        "b=int(input(\"enter your age\"))\n",
        "c=int(input(\"enter the year\"))\n",
        "print(a)\n",
        "print(b)\n",
        "print(c)\n",
        "print(c-b+100)\n",
        "\n"
      ],
      "execution_count": 0,
      "outputs": [
        {
          "output_type": "stream",
          "text": [
            "enter your namekushal reddy\n",
            "enter your age21\n",
            "enter the year2019\n",
            "kushal reddy\n",
            "21\n",
            "2019\n",
            "2098\n"
          ],
          "name": "stdout"
        }
      ]
    },
    {
      "cell_type": "code",
      "metadata": {
        "id": "vi0QZSK_ymUu",
        "colab_type": "code",
        "colab": {}
      },
      "source": [
        ""
      ],
      "execution_count": 0,
      "outputs": []
    }
  ]
}