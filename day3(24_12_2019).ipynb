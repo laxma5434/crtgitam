{
  "nbformat": 4,
  "nbformat_minor": 0,
  "metadata": {
    "colab": {
      "name": "day3(24/12/2019).ipynb",
      "provenance": []
    },
    "kernelspec": {
      "name": "python3",
      "display_name": "Python 3"
    }
  },
  "cells": [
    {
      "cell_type": "code",
      "metadata": {
        "id": "RPAr0vy8Xu_m",
        "colab_type": "code",
        "colab": {}
      },
      "source": [
        ""
      ],
      "execution_count": 0,
      "outputs": []
    },
    {
      "cell_type": "markdown",
      "metadata": {
        "id": "I5pbijPjYEiU",
        "colab_type": "text"
      },
      "source": [
        "#python programming\n",
        "##python programming\n",
        "###python programming\n",
        "####python programming\n",
        "#####python programming"
      ]
    },
    {
      "cell_type": "code",
      "metadata": {
        "id": "Kz_qIqsBY9kQ",
        "colab_type": "code",
        "colab": {}
      },
      "source": [
        ""
      ],
      "execution_count": 0,
      "outputs": []
    },
    {
      "cell_type": "markdown",
      "metadata": {
        "id": "lqA4Mk9fZTch",
        "colab_type": "text"
      },
      "source": [
        "1. a\n",
        "2. b\n",
        "3. c\n",
        "    1. d\n",
        "    2. e\n",
        "    3. f"
      ]
    },
    {
      "cell_type": "markdown",
      "metadata": {
        "id": "s1ya7TpsbX09",
        "colab_type": "text"
      },
      "source": [
        "[google](https://www.google.co.in/?gfe_rd=cr&ei=smAGVeejPIuDvASK5oDYAg&gws_rd=ssl)"
      ]
    },
    {
      "cell_type": "code",
      "metadata": {
        "id": "5NAYaY2acwL0",
        "colab_type": "code",
        "colab": {}
      },
      "source": [
        ""
      ],
      "execution_count": 0,
      "outputs": []
    },
    {
      "cell_type": "markdown",
      "metadata": {
        "id": "tXb7f5I2c1cz",
        "colab_type": "text"
      },
      "source": [
        "![image](https://media1.picsearch.com/is?i4nxpjMUmaC2CAaVw-bWd3CqnnAXpQqfz2sf_BdCYV8&height=255)"
      ]
    },
    {
      "cell_type": "markdown",
      "metadata": {
        "id": "h66HBitgd78i",
        "colab_type": "text"
      },
      "source": [
        "- abc\n",
        "- def\n",
        "* ghi"
      ]
    },
    {
      "cell_type": "code",
      "metadata": {
        "id": "WflYcB2KlnWi",
        "colab_type": "code",
        "outputId": "f560c10e-f0b0-413f-b53a-676fbcce2535",
        "colab": {
          "base_uri": "https://localhost:8080/",
          "height": 34
        }
      },
      "source": [
        "a=10,78\n",
        "b=20\n",
        "print (type(a),type(b)) "
      ],
      "execution_count": 0,
      "outputs": [
        {
          "output_type": "stream",
          "text": [
            "<class 'tuple'> <class 'int'>\n"
          ],
          "name": "stdout"
        }
      ]
    },
    {
      "cell_type": "code",
      "metadata": {
        "id": "ygh9Y-DTl1vM",
        "colab_type": "code",
        "outputId": "aab4af07-e013-442a-8124-f15471e8e9f8",
        "colab": {
          "base_uri": "https://localhost:8080/",
          "height": 68
        }
      },
      "source": [
        "a=int(input(\"enter a value\"))\n",
        "b=int(input(\"enter b value\"))\n",
        "print(a+b)"
      ],
      "execution_count": 0,
      "outputs": [
        {
          "output_type": "stream",
          "text": [
            "enter a value10\n",
            "enter b value20\n",
            "30\n"
          ],
          "name": "stdout"
        }
      ]
    },
    {
      "cell_type": "code",
      "metadata": {
        "id": "f9kUttbcmc69",
        "colab_type": "code",
        "outputId": "8789d950-a436-41bc-fbdc-3bff00e88201",
        "colab": {
          "base_uri": "https://localhost:8080/",
          "height": 68
        }
      },
      "source": [
        "age=int(input(\"enter age \"))\n",
        "name=(input(\"enter name \"))\n",
        "print(\" age is \",age,end=\" \")\n",
        "print(\" name is\",name)"
      ],
      "execution_count": 0,
      "outputs": [
        {
          "output_type": "stream",
          "text": [
            "enter age 25\n",
            "enter name sanju\n",
            " age is  25  name is sanju\n"
          ],
          "name": "stdout"
        }
      ]
    },
    {
      "cell_type": "code",
      "metadata": {
        "id": "yl_RvRUUom7p",
        "colab_type": "code",
        "outputId": "853c10b5-4b65-4be0-c260-8257ec3cbd28",
        "colab": {
          "base_uri": "https://localhost:8080/",
          "height": 238
        }
      },
      "source": [
        "help(\"keywords\")"
      ],
      "execution_count": 0,
      "outputs": [
        {
          "output_type": "stream",
          "text": [
            "\n",
            "Here is a list of the Python keywords.  Enter any keyword to get more help.\n",
            "\n",
            "False               def                 if                  raise\n",
            "None                del                 import              return\n",
            "True                elif                in                  try\n",
            "and                 else                is                  while\n",
            "as                  except              lambda              with\n",
            "assert              finally             nonlocal            yield\n",
            "break               for                 not                 \n",
            "class               from                or                  \n",
            "continue            global              pass                \n",
            "\n"
          ],
          "name": "stdout"
        }
      ]
    },
    {
      "cell_type": "code",
      "metadata": {
        "id": "J9y0iX9wpTMW",
        "colab_type": "code",
        "colab": {}
      },
      "source": [
        ""
      ],
      "execution_count": 0,
      "outputs": []
    }
  ]
}